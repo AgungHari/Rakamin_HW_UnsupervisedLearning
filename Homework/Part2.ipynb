{
 "cells": [
  {
   "cell_type": "markdown",
   "metadata": {},
   "source": [
    "## 2. Pilih fitur-fitur yang menurut teman-teman masuk akal secara <br>bisnis untuk digunakan sebagai fitur clustering. Lakukan <br>feature engineering! (20 poin)\n",
    "\n",
    "Langkah-langkah:\n",
    "<br>a. Dari sekian banyak kolom yang ada, tentukan 3-6 fitur untuk digunakan sebagai fitur\n",
    "clustering. Tulis alasan teman-teman memilih fitur tersebut.\n",
    "<br>b. Lakukan preprocessing dan feature engineering (apabila fitur yang teman-teman\n",
    "pilih merupakan fitur baru yang dihasilkan dari fitur-fitur yang sudah ada).\n",
    "Untuk mempermudah kamu, yuk lihat resource di bawah ini:\n",
    "\n",
    "- Topic Machine Learning Preparation - Feature Engineering"
   ]
  },
  {
   "cell_type": "code",
   "execution_count": null,
   "metadata": {},
   "outputs": [],
   "source": []
  }
 ],
 "metadata": {
  "kernelspec": {
   "display_name": ".venv",
   "language": "python",
   "name": "python3"
  },
  "language_info": {
   "codemirror_mode": {
    "name": "ipython",
    "version": 3
   },
   "file_extension": ".py",
   "mimetype": "text/x-python",
   "name": "python",
   "nbconvert_exporter": "python",
   "pygments_lexer": "ipython3",
   "version": "3.9.12"
  }
 },
 "nbformat": 4,
 "nbformat_minor": 2
}
