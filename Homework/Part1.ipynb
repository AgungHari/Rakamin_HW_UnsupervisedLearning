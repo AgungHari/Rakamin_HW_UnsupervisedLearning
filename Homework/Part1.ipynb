{
 "cells": [
  {
   "cell_type": "markdown",
   "metadata": {},
   "source": [
    "# Unsupervised Learning"
   ]
  },
  {
   "cell_type": "markdown",
   "metadata": {},
   "source": [
    "- I Gusti Ngurah Agung Hari Vijaya Kusuma\n",
    "- Batch 57\n",
    "- Hobi : Push Rank\n",
    "\n",
    "---"
   ]
  },
  {
   "cell_type": "markdown",
   "metadata": {},
   "source": [
    "Code Description\n",
    "- MEMBER_NO-b : ID Member\n",
    "- FFP_DATE : Frequent Flyer Program Join Date\n",
    "- FIRST_FLIGHT_DATE : Tanggal Penerbangan pertama\n",
    "- GENDER : Jenis Kelamin\n",
    "- FFP_TIER : Tier dari Frequent Flyer Program\n",
    "- WORK_CITY : Kota Asal\n",
    "- WORK_PROVINCE : Provinsi Asal\n",
    "- WORK_COUNTRY : Negara Asal\n",
    "- AGE : Umur Customer\n",
    "- LOAD_TIME : Tanggal data diambil\n",
    "- FLIGHT_COUNT : Jumlah penerbangan Customer\n",
    "- BP_SUM : Rencana Perjalanan\n",
    "- SUM_YR_1 : Fare Revenue\n",
    "- SUM_YR_2 : Votes Prices\n",
    "- SEG_KM_SUM : Total jarak(km) penerbangan yg sudah dilakukan\n",
    "- LAST_FLIGHT_DATE : Tanggal penerbangan terakhir\n",
    "- LAST_TO_END : Jarak waktu penerbangan terakhir ke pesanan penerbangan paling akhir\n",
    "- AVG_INTERVAL : Rata-rata jarak waktu\n",
    "- MAX_INTERVAL : Maksimal jarak waktu\n",
    "- EXCHANGE_COUNT : Jumlah penukaran\n",
    "- avg_discount : Rata rata discount yang didapat customer\n",
    "- Points_Sum : Jumlah poin yang didapat customer\n",
    "- Point_NotFlight : point yang tidak digunakan oleh members\n",
    "\n",
    "---"
   ]
  },
  {
   "cell_type": "markdown",
   "metadata": {},
   "source": [
    "## 1. Lakukan EDA pada dataset untuk mendapatkan pemahaman<br>umum mengenai data dan memandu proses feature<br>engineering (20 poin)\n",
    "\n",
    "Langkah-langkah:\n",
    "<br>a. Pastikan setiap kolom dataset memiliki tipe data yang tepat, tidak ada data kosong,<br>\n",
    "bebas dari duplikat, dan berada di range value yang tepat\n",
    "<br>b. Keluarkan statistik kolom baik numerik maupun kategorikal, cari bentuk distribusi<br>\n",
    "setiap kolom (numerik), dan jumlah baris untuk setiap unique value (kategorikal)\n",
    "<br>c. Cari tahu apakah ada kolom-kolom yang berkorelasi kuat satu sama lain<br>\n",
    "Untuk mempermudah kamu, yuk lihat resource di bawah ini:\n",
    "● Topic Machine Learning Preparation - EDA"
   ]
  },
  {
   "cell_type": "markdown",
   "metadata": {},
   "source": [
    "## 2. Pilih fitur-fitur yang menurut teman-teman masuk akal secara <br>bisnis untuk digunakan sebagai fitur clustering. Lakukan <br>feature engineering! (20 poin)\n",
    "\n",
    "Langkah-langkah:\n",
    "<br>a. Dari sekian banyak kolom yang ada, tentukan 3-6 fitur untuk digunakan sebagai fitur\n",
    "clustering. Tulis alasan teman-teman memilih fitur tersebut.\n",
    "<br>b. Lakukan preprocessing dan feature engineering (apabila fitur yang teman-teman\n",
    "pilih merupakan fitur baru yang dihasilkan dari fitur-fitur yang sudah ada).\n",
    "Untuk mempermudah kamu, yuk lihat resource di bawah ini:\n",
    "\n",
    "- Topic Machine Learning Preparation - Feature Engineering"
   ]
  },
  {
   "cell_type": "markdown",
   "metadata": {},
   "source": []
  }
 ],
 "metadata": {
  "language_info": {
   "name": "python"
  }
 },
 "nbformat": 4,
 "nbformat_minor": 2
}
