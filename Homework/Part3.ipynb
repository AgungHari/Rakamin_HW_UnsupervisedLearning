{
 "cells": [
  {
   "cell_type": "markdown",
   "metadata": {},
   "source": [
    "## 3. Lakukan clustering K-means! Temukan jumlah cluster yang<br> menurut teman-teman optimal dan evaluasi cluster yang<br> dihasilkan dengan visualisasi dan silhouette score (30 poin)<br>\n",
    "\n",
    "Langkah-langkah:\n",
    "<br>a. Temukan jumlah cluster yang optimal dengan menggunakan elbow method\n",
    "<br>b. Lakukan clustering menggunakan K-means\n",
    "<br>c. Evaluasi cluster yang dihasilkan dengan menggunakan visualisasi, gunakan PCA apabila diperlukan\n",
    "\n",
    "<br>Untuk mempermudah kamu, yuk lihat resource di bawah ini:\n",
    "-  Topic Unsupervised Learning - Clustering bagian KMeans dan Evaluasi\n"
   ]
  },
  {
   "cell_type": "code",
   "execution_count": null,
   "metadata": {
    "vscode": {
     "languageId": "plaintext"
    }
   },
   "outputs": [],
   "source": []
  }
 ],
 "metadata": {
  "language_info": {
   "name": "python"
  }
 },
 "nbformat": 4,
 "nbformat_minor": 2
}
