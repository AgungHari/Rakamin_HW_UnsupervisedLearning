{
 "cells": [
  {
   "cell_type": "markdown",
   "metadata": {},
   "source": [
    "## 3. Lakukan clustering K-means! Temukan jumlah cluster yang<br> menurut teman-teman optimal dan evaluasi cluster yang<br> dihasilkan dengan visualisasi dan silhouette score (30 poin)<br>\n",
    "\n",
    "Langkah-langkah:\n",
    "<br>a. Temukan jumlah cluster yang optimal dengan menggunakan elbow method\n",
    "<br>b. Lakukan clustering menggunakan K-means\n",
    "<br>c. Evaluasi cluster yang dihasilkan dengan menggunakan visualisasi, gunakan PCA apabila diperlukan\n",
    "\n",
    "<br>Untuk mempermudah kamu, yuk lihat resource di bawah ini:\n",
    "-  Topic Unsupervised Learning - Clustering bagian KMeans dan Evaluasi\n"
   ]
  },
  {
   "cell_type": "code",
   "execution_count": 1,
   "metadata": {},
   "outputs": [],
   "source": [
    "import pandas as pd\n",
    "import numpy as np\n",
    "import matplotlib.pyplot as plt\n",
    "import seaborn as sns\n",
    "#k means dan elbow method\n",
    "from sklearn.cluster import KMeans\n",
    "from sklearn.metrics import silhouette_score\n"
   ]
  },
  {
   "cell_type": "code",
   "execution_count": null,
   "metadata": {},
   "outputs": [],
   "source": []
  }
 ],
 "metadata": {
  "kernelspec": {
   "display_name": ".venv",
   "language": "python",
   "name": "python3"
  },
  "language_info": {
   "codemirror_mode": {
    "name": "ipython",
    "version": 3
   },
   "file_extension": ".py",
   "mimetype": "text/x-python",
   "name": "python",
   "nbconvert_exporter": "python",
   "pygments_lexer": "ipython3",
   "version": "3.9.12"
  }
 },
 "nbformat": 4,
 "nbformat_minor": 2
}
