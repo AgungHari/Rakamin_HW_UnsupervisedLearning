{
 "cells": [
  {
   "cell_type": "markdown",
   "metadata": {},
   "source": [
    "## 4. Interpretasi cluster yang dihasilkan secara bisnis dan berikan<br>rekomendasi yang sesuai dengan cluster yang dihasilkan<br>(30 poin)\n",
    "\n",
    "<br>Langkah-langkah:\n",
    "<br>a. Tempelkan kembali label yang dihasilkan ke dataframe asal, dan keluarkan statistik\n",
    "ﬁtur dari setiap cluster\n",
    "<br>b. Deskripsikan secara kontekstual customer seperti apa yang ada di masing-masing\n",
    "cluster\n",
    "<br>c. Berdasarkan cluster tersebut, berikan 1-2 rekomendasi bisnis\n",
    "\n",
    "\n",
    "<br>Untuk mempermudah kamu, yuk lihat resource di bawah ini:\n",
    "- Topic Unsupervised Learning - Clustering"
   ]
  },
  {
   "cell_type": "code",
   "execution_count": null,
   "metadata": {},
   "outputs": [],
   "source": []
  }
 ],
 "metadata": {
  "language_info": {
   "name": "python"
  }
 },
 "nbformat": 4,
 "nbformat_minor": 2
}
